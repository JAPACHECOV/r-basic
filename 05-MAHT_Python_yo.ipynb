{
 "cells": [
  {
   "cell_type": "markdown",
   "id": "2d56575d",
   "metadata": {},
   "source": [
    "# Constantes de Python"
   ]
  },
  {
   "cell_type": "code",
   "execution_count": null,
   "id": "f1896dc2",
   "metadata": {},
   "outputs": [],
   "source": []
  },
  {
   "cell_type": "code",
   "execution_count": null,
   "id": "a6d4f16f",
   "metadata": {},
   "outputs": [],
   "source": [
    "# shift + enter crea una nueva celda\n",
    "# Alt + enter ejecuta la celda actual y crea una nueva celda\n",
    "# el modulo Math esta precargado en Python, solo para numeros reales nunca complejos\n",
    "# el modulo CMath es para numeros complejos y hay que instalar la libreria a parte\n",
    "# Math y cmath estam programadas en C\n",
    "# para cargar libreria import y el nombre de la libreria"
   ]
  },
  {
   "cell_type": "code",
   "execution_count": 1,
   "id": "8c8abb63",
   "metadata": {},
   "outputs": [],
   "source": [
    "import math"
   ]
  },
  {
   "cell_type": "code",
   "execution_count": 3,
   "id": "e3a7dcb6",
   "metadata": {},
   "outputs": [
    {
     "data": {
      "text/plain": [
       "3.141592653589793"
      ]
     },
     "execution_count": 3,
     "metadata": {},
     "output_type": "execute_result"
    }
   ],
   "source": [
    "math.pi"
   ]
  },
  {
   "cell_type": "code",
   "execution_count": 4,
   "id": "c6a3e907",
   "metadata": {},
   "outputs": [
    {
     "data": {
      "text/plain": [
       "2.718281828459045"
      ]
     },
     "execution_count": 4,
     "metadata": {},
     "output_type": "execute_result"
    }
   ],
   "source": [
    "math.e"
   ]
  },
  {
   "cell_type": "code",
   "execution_count": 6,
   "id": "2b0a7b2a",
   "metadata": {},
   "outputs": [
    {
     "data": {
      "text/plain": [
       "6.283185307179586"
      ]
     },
     "execution_count": 6,
     "metadata": {},
     "output_type": "execute_result"
    }
   ],
   "source": [
    "# tau es 2*pi\n",
    "math.tau"
   ]
  },
  {
   "cell_type": "code",
   "execution_count": 9,
   "id": "052bc2a8",
   "metadata": {},
   "outputs": [],
   "source": [
    "tau2 = 2*math.pi"
   ]
  },
  {
   "cell_type": "code",
   "execution_count": 10,
   "id": "ad434b80",
   "metadata": {},
   "outputs": [
    {
     "data": {
      "text/plain": [
       "6.283185307179586"
      ]
     },
     "execution_count": 10,
     "metadata": {},
     "output_type": "execute_result"
    }
   ],
   "source": [
    "tau2"
   ]
  },
  {
   "cell_type": "code",
   "execution_count": 11,
   "id": "fbe3e42a",
   "metadata": {},
   "outputs": [
    {
     "data": {
      "text/plain": [
       "inf"
      ]
     },
     "execution_count": 11,
     "metadata": {},
     "output_type": "execute_result"
    }
   ],
   "source": [
    "math.inf"
   ]
  },
  {
   "cell_type": "code",
   "execution_count": 13,
   "id": "1c826c8f",
   "metadata": {},
   "outputs": [
    {
     "data": {
      "text/plain": [
       "-inf"
      ]
     },
     "execution_count": 13,
     "metadata": {},
     "output_type": "execute_result"
    }
   ],
   "source": [
    "-math.inf"
   ]
  },
  {
   "cell_type": "code",
   "execution_count": 14,
   "id": "65536265",
   "metadata": {},
   "outputs": [
    {
     "data": {
      "text/plain": [
       "inf"
      ]
     },
     "execution_count": 14,
     "metadata": {},
     "output_type": "execute_result"
    }
   ],
   "source": [
    "# float es la manera en que trabaja python equivalente a libreria math (con 8 digitos de precision)\n",
    "float(\"inf\")"
   ]
  },
  {
   "cell_type": "code",
   "execution_count": 15,
   "id": "3f6f062f",
   "metadata": {},
   "outputs": [
    {
     "data": {
      "text/plain": [
       "nan"
      ]
     },
     "execution_count": 15,
     "metadata": {},
     "output_type": "execute_result"
    }
   ],
   "source": [
    "# nota anumber\n",
    "math.nan"
   ]
  },
  {
   "cell_type": "code",
   "execution_count": 17,
   "id": "8eda9272",
   "metadata": {},
   "outputs": [
    {
     "data": {
      "text/plain": [
       "nan"
      ]
     },
     "execution_count": 17,
     "metadata": {},
     "output_type": "execute_result"
    }
   ],
   "source": [
    "float(\"nan\")"
   ]
  },
  {
   "cell_type": "code",
   "execution_count": 18,
   "id": "33c6b076",
   "metadata": {},
   "outputs": [
    {
     "ename": "ValueError",
     "evalue": "math domain error",
     "output_type": "error",
     "traceback": [
      "\u001b[1;31m---------------------------------------------------------------------------\u001b[0m",
      "\u001b[1;31mValueError\u001b[0m                                Traceback (most recent call last)",
      "\u001b[1;32m~\\AppData\\Local\\Temp/ipykernel_7728/2508052996.py\u001b[0m in \u001b[0;36m<module>\u001b[1;34m\u001b[0m\n\u001b[1;32m----> 1\u001b[1;33m \u001b[0mmath\u001b[0m\u001b[1;33m.\u001b[0m\u001b[0msqrt\u001b[0m\u001b[1;33m(\u001b[0m\u001b[1;33m-\u001b[0m\u001b[1;36m1.0\u001b[0m\u001b[1;33m)\u001b[0m\u001b[1;33m\u001b[0m\u001b[1;33m\u001b[0m\u001b[0m\n\u001b[0m",
      "\u001b[1;31mValueError\u001b[0m: math domain error"
     ]
    }
   ],
   "source": [
    "# operacion que no existe\n",
    "math.sqrt(-1.0)"
   ]
  },
  {
   "cell_type": "code",
   "execution_count": 19,
   "id": "004040bf",
   "metadata": {},
   "outputs": [
    {
     "ename": "ValueError",
     "evalue": "math domain error",
     "output_type": "error",
     "traceback": [
      "\u001b[1;31m---------------------------------------------------------------------------\u001b[0m",
      "\u001b[1;31mValueError\u001b[0m                                Traceback (most recent call last)",
      "\u001b[1;32m~\\AppData\\Local\\Temp/ipykernel_7728/1501674532.py\u001b[0m in \u001b[0;36m<module>\u001b[1;34m\u001b[0m\n\u001b[0;32m      1\u001b[0m \u001b[1;31m# operacion que no existe\u001b[0m\u001b[1;33m\u001b[0m\u001b[1;33m\u001b[0m\u001b[0m\n\u001b[1;32m----> 2\u001b[1;33m \u001b[0mmath\u001b[0m\u001b[1;33m.\u001b[0m\u001b[0mlog\u001b[0m\u001b[1;33m(\u001b[0m\u001b[1;36m0.0\u001b[0m\u001b[1;33m)\u001b[0m\u001b[1;33m\u001b[0m\u001b[1;33m\u001b[0m\u001b[0m\n\u001b[0m",
      "\u001b[1;31mValueError\u001b[0m: math domain error"
     ]
    }
   ],
   "source": [
    "# operacion que no existe\n",
    "math.log(0.0)"
   ]
  },
  {
   "cell_type": "code",
   "execution_count": 20,
   "id": "301f0478",
   "metadata": {},
   "outputs": [
    {
     "ename": "OverflowError",
     "evalue": "math range error",
     "output_type": "error",
     "traceback": [
      "\u001b[1;31m---------------------------------------------------------------------------\u001b[0m",
      "\u001b[1;31mOverflowError\u001b[0m                             Traceback (most recent call last)",
      "\u001b[1;32m~\\AppData\\Local\\Temp/ipykernel_7728/3586528505.py\u001b[0m in \u001b[0;36m<module>\u001b[1;34m\u001b[0m\n\u001b[1;32m----> 1\u001b[1;33m \u001b[0mmath\u001b[0m\u001b[1;33m.\u001b[0m\u001b[0mexp\u001b[0m\u001b[1;33m(\u001b[0m\u001b[1;36m1000.0\u001b[0m\u001b[1;33m)\u001b[0m\u001b[1;33m\u001b[0m\u001b[1;33m\u001b[0m\u001b[0m\n\u001b[0m",
      "\u001b[1;31mOverflowError\u001b[0m: math range error"
     ]
    }
   ],
   "source": [
    "# da un error por que pu¿ython no tiene tanta capacidad de calculo\n",
    "math.exp(1000.0)"
   ]
  },
  {
   "cell_type": "code",
   "execution_count": 21,
   "id": "b4d58328",
   "metadata": {},
   "outputs": [
    {
     "data": {
      "text/plain": [
       "1.0"
      ]
     },
     "execution_count": 21,
     "metadata": {},
     "output_type": "execute_result"
    }
   ],
   "source": [
    "# nan es operable segun las reglas matematicas si esposible\n",
    "# por ejemplo nan elvado a 0 es 1 (cualquier cosa elevada a cero es 1)\n",
    "math.pow(math.nan,0)"
   ]
  },
  {
   "cell_type": "markdown",
   "id": "9cacb34b",
   "metadata": {},
   "source": [
    "# Representacion numerica"
   ]
  },
  {
   "cell_type": "code",
   "execution_count": 22,
   "id": "1ad9dac8",
   "metadata": {},
   "outputs": [
    {
     "data": {
      "text/plain": [
       "4"
      ]
     },
     "execution_count": 22,
     "metadata": {},
     "output_type": "execute_result"
    }
   ],
   "source": [
    "2+2"
   ]
  },
  {
   "cell_type": "code",
   "execution_count": 23,
   "id": "1d377161",
   "metadata": {},
   "outputs": [
    {
     "data": {
      "text/plain": [
       "-2"
      ]
     },
     "execution_count": 23,
     "metadata": {},
     "output_type": "execute_result"
    }
   ],
   "source": [
    "3-5"
   ]
  },
  {
   "cell_type": "code",
   "execution_count": 24,
   "id": "06c9dc6f",
   "metadata": {},
   "outputs": [
    {
     "data": {
      "text/plain": [
       "15"
      ]
     },
     "execution_count": 24,
     "metadata": {},
     "output_type": "execute_result"
    }
   ],
   "source": [
    "3* "
   ]
  },
  {
   "cell_type": "code",
   "execution_count": 25,
   "id": "58061c4a",
   "metadata": {},
   "outputs": [
    {
     "data": {
      "text/plain": [
       "0.6"
      ]
     },
     "execution_count": 25,
     "metadata": {},
     "output_type": "execute_result"
    }
   ],
   "source": [
    "3/5"
   ]
  },
  {
   "cell_type": "code",
   "execution_count": 29,
   "id": "0c543f9c",
   "metadata": {},
   "outputs": [
    {
     "data": {
      "text/plain": [
       "7"
      ]
     },
     "execution_count": 29,
     "metadata": {},
     "output_type": "execute_result"
    }
   ],
   "source": [
    "# redondeo alta\n",
    "math.ceil(6.96)"
   ]
  },
  {
   "cell_type": "code",
   "execution_count": 36,
   "id": "903d0b82",
   "metadata": {},
   "outputs": [
    {
     "data": {
      "text/plain": [
       "6"
      ]
     },
     "execution_count": 36,
     "metadata": {},
     "output_type": "execute_result"
    }
   ],
   "source": [
    "# redondeo baja\n",
    "math.floor(6.96)"
   ]
  },
  {
   "cell_type": "code",
   "execution_count": 38,
   "id": "0eba99a3",
   "metadata": {},
   "outputs": [
    {
     "data": {
      "text/plain": [
       "5"
      ]
     },
     "execution_count": 38,
     "metadata": {},
     "output_type": "execute_result"
    }
   ],
   "source": [
    "# quita los decimales\n",
    "math.trunc(5.445564544)"
   ]
  },
  {
   "cell_type": "code",
   "execution_count": 30,
   "id": "13b0f6ef",
   "metadata": {},
   "outputs": [],
   "source": [
    "# en el tipo de celda si es un markdown te expresara la funcion en forma matemmativca y no en codigo\n",
    "# si eliges la celda como markdown y escribes la siguiente integral\n",
    "# $\\int_0^1 x^2 dx$\n",
    "# te lo escribira de esta forma en la celda"
   ]
  },
  {
   "cell_type": "markdown",
   "id": "c4b94fc8",
   "metadata": {},
   "source": [
    "$\\int_0^1 x^2 dx$"
   ]
  },
  {
   "cell_type": "code",
   "execution_count": 34,
   "id": "f3a2f32e",
   "metadata": {},
   "outputs": [
    {
     "data": {
      "text/plain": [
       "-3.0"
      ]
     },
     "execution_count": 34,
     "metadata": {},
     "output_type": "execute_result"
    }
   ],
   "source": [
    "# COPIA EL SIGNO DE LA SEHGUNDA VARIABLE A LA PRIMERA\n",
    "math.copysign(3,-2)"
   ]
  },
  {
   "cell_type": "code",
   "execution_count": 35,
   "id": "e8147d34",
   "metadata": {},
   "outputs": [
    {
     "data": {
      "text/plain": [
       "5.0"
      ]
     },
     "execution_count": 35,
     "metadata": {},
     "output_type": "execute_result"
    }
   ],
   "source": [
    "# Valor absoluto\n",
    "math.fabs(-5.0)"
   ]
  },
  {
   "cell_type": "code",
   "execution_count": 39,
   "id": "987392ba",
   "metadata": {},
   "outputs": [
    {
     "data": {
      "text/plain": [
       "32"
      ]
     },
     "execution_count": 39,
     "metadata": {},
     "output_type": "execute_result"
    }
   ],
   "source": [
    "# elevar a una potencia\n",
    "2**5"
   ]
  },
  {
   "cell_type": "code",
   "execution_count": 40,
   "id": "7551c402",
   "metadata": {},
   "outputs": [
    {
     "data": {
      "text/plain": [
       "24"
      ]
     },
     "execution_count": 40,
     "metadata": {},
     "output_type": "execute_result"
    }
   ],
   "source": [
    "# devuelve el factorial\n",
    "math.factorial(4)"
   ]
  },
  {
   "cell_type": "code",
   "execution_count": 45,
   "id": "3a4b12d0",
   "metadata": {},
   "outputs": [
    {
     "data": {
      "text/plain": [
       "10.0"
      ]
     },
     "execution_count": 45,
     "metadata": {},
     "output_type": "execute_result"
    }
   ],
   "source": [
    "# 5 sobre 2 (factoriales para convinatoria)\n",
    "# hay una libreria SymPy que posee estas caracteristicas pero tambien se puede hacer sin ella por el cuento de la vieja\n",
    "x = 5\n",
    "y = 2\n",
    "\n",
    "math.factorial(x) / (math.factorial(y) * math.factorial(x-y))"
   ]
  },
  {
   "cell_type": "code",
   "execution_count": 50,
   "id": "cd60d26a",
   "metadata": {},
   "outputs": [
    {
     "data": {
      "text/plain": [
       "1.0"
      ]
     },
     "execution_count": 50,
     "metadata": {},
     "output_type": "execute_result"
    }
   ],
   "source": [
    "# divisiones por enteros\n",
    "math.fmod(7,3) # da el resto\n",
    "math.remainder(7,3) # es lo mismo\n",
    "7%3 # es lo mismo"
   ]
  },
  {
   "cell_type": "code",
   "execution_count": 51,
   "id": "f6210f98",
   "metadata": {},
   "outputs": [
    {
     "data": {
      "text/plain": [
       "2"
      ]
     },
     "execution_count": 51,
     "metadata": {},
     "output_type": "execute_result"
    }
   ],
   "source": [
    "7//3  # cociente de la division entera"
   ]
  },
  {
   "cell_type": "code",
   "execution_count": 52,
   "id": "4e3293e2",
   "metadata": {},
   "outputs": [
    {
     "data": {
      "text/plain": [
       "(-0.2400000000000002, -5.0)"
      ]
     },
     "execution_count": 52,
     "metadata": {},
     "output_type": "execute_result"
    }
   ],
   "source": [
    "# separa la parte fraccional de la entera\n",
    "math.modf(-5.24,)"
   ]
  },
  {
   "cell_type": "code",
   "execution_count": 53,
   "id": "277495a4",
   "metadata": {},
   "outputs": [
    {
     "data": {
      "text/plain": [
       "12"
      ]
     },
     "execution_count": 53,
     "metadata": {},
     "output_type": "execute_result"
    }
   ],
   "source": [
    "# maximo comun divisor\n",
    "math.gcd(24,36)"
   ]
  },
  {
   "cell_type": "code",
   "execution_count": 54,
   "id": "40076e29",
   "metadata": {},
   "outputs": [
    {
     "data": {
      "text/plain": [
       "True"
      ]
     },
     "execution_count": 54,
     "metadata": {},
     "output_type": "execute_result"
    }
   ],
   "source": [
    "# comprobar si un numero es finito o infinito\n",
    "math.isfinite (2.5)"
   ]
  },
  {
   "cell_type": "code",
   "execution_count": 55,
   "id": "766e838a",
   "metadata": {},
   "outputs": [
    {
     "data": {
      "text/plain": [
       "False"
      ]
     },
     "execution_count": 55,
     "metadata": {},
     "output_type": "execute_result"
    }
   ],
   "source": [
    "math.isinf(2.4)"
   ]
  },
  {
   "cell_type": "code",
   "execution_count": 56,
   "id": "d0a4392c",
   "metadata": {},
   "outputs": [
    {
     "data": {
      "text/plain": [
       "False"
      ]
     },
     "execution_count": 56,
     "metadata": {},
     "output_type": "execute_result"
    }
   ],
   "source": [
    "math.isnan(4.6)"
   ]
  },
  {
   "cell_type": "code",
   "execution_count": 3,
   "id": "88773888",
   "metadata": {},
   "outputs": [
    {
     "data": {
      "text/plain": [
       "True"
      ]
     },
     "execution_count": 3,
     "metadata": {},
     "output_type": "execute_result"
    }
   ],
   "source": [
    "# comprobar si dos numeros son iguales. a nivel computacional es compliado con tantos decimales.tiene parametros de tolerancia\n",
    "math.isclose (math.sqrt(2)**2,2, rel_tol=1e-15)"
   ]
  },
  {
   "cell_type": "markdown",
   "id": "09816c13",
   "metadata": {},
   "source": [
    "Funciones matematicas"
   ]
  },
  {
   "cell_type": "code",
   "execution_count": 3,
   "id": "1e992369",
   "metadata": {},
   "outputs": [
    {
     "data": {
      "text/plain": [
       "20.085536923187668"
      ]
     },
     "execution_count": 3,
     "metadata": {},
     "output_type": "execute_result"
    }
   ],
   "source": [
    "math.exp(3) # es mas preciso que hacerlo directamente"
   ]
  },
  {
   "cell_type": "code",
   "execution_count": 4,
   "id": "67e3192a",
   "metadata": {},
   "outputs": [
    {
     "data": {
      "text/plain": [
       "20.085536923187664"
      ]
     },
     "execution_count": 4,
     "metadata": {},
     "output_type": "execute_result"
    }
   ],
   "source": [
    "math.e**3 # es menos preciso que el anteriro"
   ]
  },
  {
   "cell_type": "code",
   "execution_count": 5,
   "id": "a32d7b77",
   "metadata": {},
   "outputs": [
    {
     "data": {
      "text/plain": [
       "20.085536923187664"
      ]
     },
     "execution_count": 5,
     "metadata": {},
     "output_type": "execute_result"
    }
   ],
   "source": [
    "# Otra forma, e igual que el anterior de preciso\n",
    "\n",
    "math.pow(math.e,3)"
   ]
  },
  {
   "cell_type": "code",
   "execution_count": 8,
   "id": "55cb5dd4",
   "metadata": {},
   "outputs": [
    {
     "data": {
      "text/plain": [
       "1.0000050000166667e-05"
      ]
     },
     "execution_count": 8,
     "metadata": {},
     "output_type": "execute_result"
    }
   ],
   "source": [
    "math.expm1(1e-05) # #numero e menos 1"
   ]
  },
  {
   "cell_type": "code",
   "execution_count": 9,
   "id": "1bb19218",
   "metadata": {},
   "outputs": [
    {
     "data": {
      "text/plain": [
       "1.0000050000069649e-05"
      ]
     },
     "execution_count": 9,
     "metadata": {},
     "output_type": "execute_result"
    }
   ],
   "source": [
    "# si se hace de este modo se pierde precision en numeros muy pequeños\n",
    "math.exp(1e-05)-1"
   ]
  },
  {
   "cell_type": "code",
   "execution_count": 10,
   "id": "34760711",
   "metadata": {},
   "outputs": [
    {
     "data": {
      "text/plain": [
       "2.4849066497880004"
      ]
     },
     "execution_count": 10,
     "metadata": {},
     "output_type": "execute_result"
    }
   ],
   "source": [
    "math.log(12) # en base e"
   ]
  },
  {
   "cell_type": "code",
   "execution_count": 11,
   "id": "aeeb7bde",
   "metadata": {},
   "outputs": [
    {
     "data": {
      "text/plain": [
       "3.5849625007211565"
      ]
     },
     "execution_count": 11,
     "metadata": {},
     "output_type": "execute_result"
    }
   ],
   "source": [
    "math.log(12,2) # en base 2"
   ]
  },
  {
   "cell_type": "code",
   "execution_count": 12,
   "id": "f4625866",
   "metadata": {},
   "outputs": [
    {
     "data": {
      "text/plain": [
       "9.99995000033333e-06"
      ]
     },
     "execution_count": 12,
     "metadata": {},
     "output_type": "execute_result"
    }
   ],
   "source": [
    "# para eviatr la perdida de precision de numeros bajos\n",
    "math.log1p(1e-5)"
   ]
  },
  {
   "cell_type": "code",
   "execution_count": 13,
   "id": "3fcaa7d4",
   "metadata": {},
   "outputs": [
    {
     "data": {
      "text/plain": [
       "4.535863520712453"
      ]
     },
     "execution_count": 13,
     "metadata": {},
     "output_type": "execute_result"
    }
   ],
   "source": [
    "math.log10 (34345)"
   ]
  },
  {
   "cell_type": "code",
   "execution_count": 14,
   "id": "22d1c38d",
   "metadata": {},
   "outputs": [
    {
     "data": {
      "text/plain": [
       "11.750288267591653"
      ]
     },
     "execution_count": 14,
     "metadata": {},
     "output_type": "execute_result"
    }
   ],
   "source": [
    "math.log2(3445)"
   ]
  },
  {
   "cell_type": "code",
   "execution_count": 15,
   "id": "ede987d9",
   "metadata": {},
   "outputs": [
    {
     "data": {
      "text/plain": [
       "8.0"
      ]
     },
     "execution_count": 15,
     "metadata": {},
     "output_type": "execute_result"
    }
   ],
   "source": [
    "math.sqrt (64)"
   ]
  },
  {
   "cell_type": "code",
   "execution_count": 17,
   "id": "6cecd27d",
   "metadata": {},
   "outputs": [
    {
     "data": {
      "text/plain": [
       "-0.8011526357338304"
      ]
     },
     "execution_count": 17,
     "metadata": {},
     "output_type": "execute_result"
    }
   ],
   "source": [
    "# angulo en radianes\n",
    "math.sin(180)"
   ]
  },
  {
   "cell_type": "code",
   "execution_count": 18,
   "id": "cb48c316",
   "metadata": {},
   "outputs": [
    {
     "data": {
      "text/plain": [
       "-0.5984600690578582"
      ]
     },
     "execution_count": 18,
     "metadata": {},
     "output_type": "execute_result"
    }
   ],
   "source": [
    "math.cos(180)"
   ]
  },
  {
   "cell_type": "code",
   "execution_count": 19,
   "id": "51d04ea6",
   "metadata": {},
   "outputs": [
    {
     "data": {
      "text/plain": [
       "1.633123935319537e+16"
      ]
     },
     "execution_count": 19,
     "metadata": {},
     "output_type": "execute_result"
    }
   ],
   "source": [
    "math.tan(math.pi/2)"
   ]
  },
  {
   "cell_type": "code",
   "execution_count": 23,
   "id": "5a0fcf27",
   "metadata": {},
   "outputs": [
    {
     "data": {
      "text/plain": [
       "0.7853981633974483"
      ]
     },
     "execution_count": 23,
     "metadata": {},
     "output_type": "execute_result"
    }
   ],
   "source": [
    "math.acos(1)\n",
    "math.asin(1)\n",
    "math.atan(1)"
   ]
  },
  {
   "cell_type": "code",
   "execution_count": 25,
   "id": "9a14c087",
   "metadata": {},
   "outputs": [
    {
     "data": {
      "text/plain": [
       "1.0471975511965976"
      ]
     },
     "execution_count": 25,
     "metadata": {},
     "output_type": "execute_result"
    }
   ],
   "source": [
    "# para pasar de grados o radianes\n",
    "math.degrees(1) # pasa radianes a grados\n",
    "math.radians(60) # pasa grados a radianes"
   ]
  },
  {
   "cell_type": "code",
   "execution_count": 28,
   "id": "032bb6f1",
   "metadata": {},
   "outputs": [
    {
     "data": {
      "text/plain": [
       "5.0"
      ]
     },
     "execution_count": 28,
     "metadata": {},
     "output_type": "execute_result"
    }
   ],
   "source": [
    "# hipotenusa de un vector. ambas equivalen\n",
    "math.hypot(3,4)\n",
    "math.sqrt(3**2+4**2)"
   ]
  },
  {
   "cell_type": "code",
   "execution_count": 29,
   "id": "6cd6e540",
   "metadata": {},
   "outputs": [
    {
     "data": {
      "text/plain": [
       "53.13010235415598"
      ]
     },
     "execution_count": 29,
     "metadata": {},
     "output_type": "execute_result"
    }
   ],
   "source": [
    "# angulo de 1 vector con el eje horizontal (modulo y long con el eje horizontal)\n",
    "math.degrees(math.atan2(4,3)) # primero el valor de y despues el de x"
   ]
  },
  {
   "cell_type": "code",
   "execution_count": 37,
   "id": "7a6e90fe",
   "metadata": {},
   "outputs": [
    {
     "data": {
      "text/plain": [
       "0.0"
      ]
     },
     "execution_count": 37,
     "metadata": {},
     "output_type": "execute_result"
    }
   ],
   "source": [
    "# Funciones hiperbolicas\n",
    "# seno, coseno y tangente hiperbolica y arcosenos correspondientes\n",
    "math.cosh(0)\n",
    "math.sinh(0)\n",
    "math.tanh(0)\n",
    "math.acosh(1)\n",
    "math.asinh(0)\n",
    "math.atanh(0)"
   ]
  },
  {
   "cell_type": "code",
   "execution_count": 38,
   "id": "c95c3b4b",
   "metadata": {},
   "outputs": [
    {
     "data": {
      "text/plain": [
       "0.9999911238536323"
      ]
     },
     "execution_count": 38,
     "metadata": {},
     "output_type": "execute_result"
    }
   ],
   "source": [
    "# funciones estadisticas distribucion normal, funcion de error\n",
    "math.erf(math.pi)"
   ]
  },
  {
   "cell_type": "code",
   "execution_count": 39,
   "id": "e4950bd0",
   "metadata": {},
   "outputs": [
    {
     "data": {
      "text/plain": [
       "8.876146367641612e-06"
      ]
     },
     "execution_count": 39,
     "metadata": {},
     "output_type": "execute_result"
    }
   ],
   "source": [
    "# da el complementario 1- mat.erf()\n",
    "math.erfc(math.pi)"
   ]
  },
  {
   "cell_type": "code",
   "execution_count": 40,
   "id": "caa8cfe4",
   "metadata": {},
   "outputs": [
    {
     "data": {
      "text/plain": [
       "9.332621544394415e+155"
      ]
     },
     "execution_count": 40,
     "metadata": {},
     "output_type": "execute_result"
    }
   ],
   "source": [
    "# funcion que hace el factorial del numero-1. el siguiente seria de 100. no da error con numeros no enteros\n",
    "math.gamma(100)"
   ]
  },
  {
   "cell_type": "code",
   "execution_count": 41,
   "id": "1e66c0d1",
   "metadata": {},
   "outputs": [
    {
     "data": {
      "text/plain": [
       "3.178053830347945"
      ]
     },
     "execution_count": 41,
     "metadata": {},
     "output_type": "execute_result"
    }
   ],
   "source": [
    "# la omplementaria seria\n",
    "math.lgamma(5)"
   ]
  },
  {
   "cell_type": "code",
   "execution_count": null,
   "id": "9e51d50e",
   "metadata": {},
   "outputs": [],
   "source": []
  }
 ],
 "metadata": {
  "kernelspec": {
   "display_name": "Python 3 (ipykernel)",
   "language": "python",
   "name": "python3"
  },
  "language_info": {
   "codemirror_mode": {
    "name": "ipython",
    "version": 3
   },
   "file_extension": ".py",
   "mimetype": "text/x-python",
   "name": "python",
   "nbconvert_exporter": "python",
   "pygments_lexer": "ipython3",
   "version": "3.8.12"
  }
 },
 "nbformat": 4,
 "nbformat_minor": 5
}
