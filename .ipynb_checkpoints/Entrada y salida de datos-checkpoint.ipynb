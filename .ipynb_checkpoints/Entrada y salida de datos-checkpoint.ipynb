{
 "cells": [
  {
   "cell_type": "markdown",
   "id": "9bc89f99",
   "metadata": {},
   "source": [
    "# ENTRADA y SALIDA DE DATOS"
   ]
  },
  {
   "cell_type": "markdown",
   "id": "e6e660f8",
   "metadata": {},
   "source": [
    "# Salida"
   ]
  },
  {
   "cell_type": "code",
   "execution_count": 1,
   "id": "a1627d58",
   "metadata": {},
   "outputs": [
    {
     "name": "stdout",
     "output_type": "stream",
     "text": [
      "Hola me llamo Jose A\n"
     ]
    }
   ],
   "source": [
    "print(\"Hola me llamo Jose A\")"
   ]
  },
  {
   "cell_type": "code",
   "execution_count": 4,
   "id": "383c7ef0",
   "metadata": {},
   "outputs": [
    {
     "name": "stdout",
     "output_type": "stream",
     "text": [
      "6\n"
     ]
    }
   ],
   "source": [
    "x =6\n",
    "print (x)"
   ]
  },
  {
   "cell_type": "code",
   "execution_count": 5,
   "id": "2784067d",
   "metadata": {},
   "outputs": [
    {
     "name": "stdout",
     "output_type": "stream",
     "text": [
      "El valor de la variable x= 6\n"
     ]
    }
   ],
   "source": [
    "print(\"El valor de la variable x= \"+str(x))"
   ]
  },
  {
   "cell_type": "markdown",
   "id": "8763c938",
   "metadata": {},
   "source": [
    "# Entrada"
   ]
  },
  {
   "cell_type": "code",
   "execution_count": 12,
   "id": "6b06c9bd",
   "metadata": {},
   "outputs": [
    {
     "name": "stdout",
     "output_type": "stream",
     "text": [
      "Introduce aqui tu nombre: Jose A\n",
      "Jose A\n"
     ]
    }
   ],
   "source": [
    "texto = input(\"Introduce aqui tu nombre: \")\n",
    "print (texto)"
   ]
  },
  {
   "cell_type": "code",
   "execution_count": 13,
   "id": "ac77e8c0",
   "metadata": {},
   "outputs": [
    {
     "data": {
      "text/plain": [
       "'Jose A'"
      ]
     },
     "execution_count": 13,
     "metadata": {},
     "output_type": "execute_result"
    }
   ],
   "source": [
    "texto"
   ]
  },
  {
   "cell_type": "code",
   "execution_count": 16,
   "id": "3ef93793",
   "metadata": {},
   "outputs": [
    {
     "name": "stdout",
     "output_type": "stream",
     "text": [
      "Introduce aqui tu edad: 23\n",
      "23\n",
      "28\n"
     ]
    }
   ],
   "source": [
    "# si esperais un numero hay que cambiar el tipo de variable\n",
    "edad = int(input(\"Introduce aqui tu edad: \"))\n",
    "print(edad)\n",
    "edad_5=edad+5\n",
    "print(edad_5)"
   ]
  },
  {
   "cell_type": "markdown",
   "id": "eb1e09ec",
   "metadata": {},
   "source": [
    "# La variable x puede cambiar de modo automaticamente. Hay que tener en cuenta de que tipo es en todo momento. caracter, entero, decimal, verf¿dadero o falso"
   ]
  },
  {
   "cell_type": "code",
   "execution_count": 17,
   "id": "c75524f3",
   "metadata": {},
   "outputs": [],
   "source": [
    "x=4"
   ]
  },
  {
   "cell_type": "code",
   "execution_count": 18,
   "id": "4359e52c",
   "metadata": {},
   "outputs": [
    {
     "name": "stdout",
     "output_type": "stream",
     "text": [
      "4\n"
     ]
    }
   ],
   "source": [
    "print (x)"
   ]
  },
  {
   "cell_type": "code",
   "execution_count": 19,
   "id": "8545c5cd",
   "metadata": {},
   "outputs": [],
   "source": [
    "x=\"j\""
   ]
  },
  {
   "cell_type": "code",
   "execution_count": 20,
   "id": "d727d42b",
   "metadata": {},
   "outputs": [
    {
     "name": "stdout",
     "output_type": "stream",
     "text": [
      "j\n"
     ]
    }
   ],
   "source": [
    "print (x)"
   ]
  },
  {
   "cell_type": "code",
   "execution_count": 21,
   "id": "ea87fed7",
   "metadata": {},
   "outputs": [],
   "source": [
    "x=3.1416"
   ]
  },
  {
   "cell_type": "code",
   "execution_count": 22,
   "id": "43daf068",
   "metadata": {},
   "outputs": [
    {
     "name": "stdout",
     "output_type": "stream",
     "text": [
      "3.1416\n"
     ]
    }
   ],
   "source": [
    "print (x)"
   ]
  },
  {
   "cell_type": "code",
   "execution_count": 24,
   "id": "319e3aa6",
   "metadata": {},
   "outputs": [],
   "source": [
    "x=True"
   ]
  },
  {
   "cell_type": "code",
   "execution_count": 25,
   "id": "67043f55",
   "metadata": {},
   "outputs": [
    {
     "name": "stdout",
     "output_type": "stream",
     "text": [
      "True\n"
     ]
    }
   ],
   "source": [
    "print (x)"
   ]
  },
  {
   "cell_type": "code",
   "execution_count": 26,
   "id": "1018a8a5",
   "metadata": {},
   "outputs": [],
   "source": [
    "x=\"h\""
   ]
  },
  {
   "cell_type": "code",
   "execution_count": 27,
   "id": "7d5af69a",
   "metadata": {},
   "outputs": [
    {
     "name": "stdout",
     "output_type": "stream",
     "text": [
      "La variable x ahora es un caracter: h\n"
     ]
    }
   ],
   "source": [
    "print (\"La variable x ahora es un caracter: \"+ x) # no hace falta decirle lo que es"
   ]
  },
  {
   "cell_type": "code",
   "execution_count": 28,
   "id": "a721c776",
   "metadata": {},
   "outputs": [],
   "source": [
    "x=5"
   ]
  },
  {
   "cell_type": "code",
   "execution_count": 29,
   "id": "e79dd8e3",
   "metadata": {},
   "outputs": [
    {
     "name": "stdout",
     "output_type": "stream",
     "text": [
      "La variable x ahora es el numero: 5\n"
     ]
    }
   ],
   "source": [
    "print (\"La variable x ahora es el numero: \"+ str(x)) # no hace falta decirle que es un entero"
   ]
  },
  {
   "cell_type": "markdown",
   "id": "84772b46",
   "metadata": {},
   "source": [
    "# Operadores de decision (no todas las lineas de codigo tiene por que ejecutarse)"
   ]
  },
  {
   "cell_type": "code",
   "execution_count": 30,
   "id": "9f14dd46",
   "metadata": {},
   "outputs": [],
   "source": [
    "# manejan las lineas de codigo que deben ejecutarse bajo ciertas condiciones"
   ]
  },
  {
   "cell_type": "code",
   "execution_count": 31,
   "id": "19bf3b73",
   "metadata": {},
   "outputs": [],
   "source": [
    "# el codigo de python es tabulado. no hace falta poner comillas"
   ]
  },
  {
   "cell_type": "code",
   "execution_count": 33,
   "id": "04bef32d",
   "metadata": {},
   "outputs": [],
   "source": [
    "# si condicion boolenan:\n",
    "#    codigo que se ejcuta si la condicion es verdad\n",
    "#    ...\n",
    "#    ...\n",
    "#    ...\n",
    "# siguiente codigo se ejecuta siempre"
   ]
  },
  {
   "cell_type": "code",
   "execution_count": 38,
   "id": "fcc3a3cf",
   "metadata": {},
   "outputs": [
    {
     "name": "stdout",
     "output_type": "stream",
     "text": [
      "Escribe aqui un numero: 43\n"
     ]
    }
   ],
   "source": [
    "x=int(input(\"Escribe aqui un numero: \"))"
   ]
  },
  {
   "cell_type": "code",
   "execution_count": 39,
   "id": "712badc7",
   "metadata": {},
   "outputs": [],
   "source": [
    "if x == 5:\n",
    "    print (\"Has escrito el numero 5\")"
   ]
  },
  {
   "cell_type": "code",
   "execution_count": 41,
   "id": "7b0b3895",
   "metadata": {},
   "outputs": [
    {
     "name": "stdout",
     "output_type": "stream",
     "text": [
      "Has escrito un numero mayor a 10\n"
     ]
    }
   ],
   "source": [
    "if x<5:\n",
    "    print(\"Has escrito un numero inferir a 5\")\n",
    "elif x<10:\n",
    "    print(\"Has escrito un numero mayor a 5 e inferir a 10\")\n",
    "else:\n",
    "     print(\"Has escrito un numero mayor a 10\")"
   ]
  },
  {
   "cell_type": "code",
   "execution_count": 44,
   "id": "385b762d",
   "metadata": {},
   "outputs": [
    {
     "name": "stdout",
     "output_type": "stream",
     "text": [
      "Escribe aqui un numero: 6\n",
      "Has escrito un numero entre 0 y 10\n"
     ]
    }
   ],
   "source": [
    "x=int(input(\"Escribe aqui un numero: \"))\n",
    "if x>0 and x<10:\n",
    "    print(\"Has escrito un numero entre 0 y 10\")"
   ]
  },
  {
   "cell_type": "code",
   "execution_count": 46,
   "id": "21ebeaee",
   "metadata": {},
   "outputs": [
    {
     "name": "stdout",
     "output_type": "stream",
     "text": [
      "Escribe aqui un numero: 34\n",
      "Has escrito un numero que no esta entre entre 0 y 10\n"
     ]
    }
   ],
   "source": [
    "x=int(input(\"Escribe aqui un numero: \"))\n",
    "if x<0 or x>10:\n",
    "    print(\"Has escrito un numero que no esta entre entre 0 y 10\")"
   ]
  },
  {
   "cell_type": "code",
   "execution_count": null,
   "id": "1063c222",
   "metadata": {},
   "outputs": [],
   "source": []
  }
 ],
 "metadata": {
  "kernelspec": {
   "display_name": "Python 3 (ipykernel)",
   "language": "python",
   "name": "python3"
  },
  "language_info": {
   "codemirror_mode": {
    "name": "ipython",
    "version": 3
   },
   "file_extension": ".py",
   "mimetype": "text/x-python",
   "name": "python",
   "nbconvert_exporter": "python",
   "pygments_lexer": "ipython3",
   "version": "3.9.7"
  }
 },
 "nbformat": 4,
 "nbformat_minor": 5
}
