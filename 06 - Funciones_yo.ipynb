{
 "cells": [
  {
   "cell_type": "markdown",
   "id": "af17f5ff",
   "metadata": {},
   "source": [
    "# Funciones en Python"
   ]
  },
  {
   "cell_type": "code",
   "execution_count": 1,
   "id": "41dc54d3",
   "metadata": {},
   "outputs": [],
   "source": [
    "# como se crean tus propias funcones en python"
   ]
  },
  {
   "cell_type": "code",
   "execution_count": 2,
   "id": "c9ef373d",
   "metadata": {},
   "outputs": [],
   "source": [
    "# hay funciones propias de python\n",
    "# nuestras funciones propias\n",
    "# funciones lampda"
   ]
  },
  {
   "cell_type": "code",
   "execution_count": 3,
   "id": "d1aaf162",
   "metadata": {},
   "outputs": [],
   "source": [
    "# funciones de clases y metodos"
   ]
  },
  {
   "cell_type": "code",
   "execution_count": 4,
   "id": "2d9cd2a3",
   "metadata": {},
   "outputs": [],
   "source": [
    "# 1er ejemplo"
   ]
  },
  {
   "cell_type": "code",
   "execution_count": 5,
   "id": "9868acad",
   "metadata": {},
   "outputs": [],
   "source": [
    "# como suma\n",
    "def suma(x,y):\n",
    "    return x+y"
   ]
  },
  {
   "cell_type": "code",
   "execution_count": 10,
   "id": "22f51504",
   "metadata": {},
   "outputs": [],
   "source": [
    "# como metodo\n",
    "\n",
    "class Operaciones(object): # clase\n",
    "    def suma(self, x, y):  # def los parametros de clase\n",
    "        self.resultado = x+y  # def los metodos\n",
    "        return self.resultado"
   ]
  },
  {
   "cell_type": "code",
   "execution_count": 13,
   "id": "67ad45db",
   "metadata": {},
   "outputs": [
    {
     "data": {
      "text/plain": [
       "5"
      ]
     },
     "execution_count": 13,
     "metadata": {},
     "output_type": "execute_result"
    }
   ],
   "source": [
    "suma (2,3)"
   ]
  },
  {
   "cell_type": "code",
   "execution_count": 14,
   "id": "121b9658",
   "metadata": {},
   "outputs": [
    {
     "data": {
      "text/plain": [
       "5"
      ]
     },
     "execution_count": 14,
     "metadata": {},
     "output_type": "execute_result"
    }
   ],
   "source": [
    "operInstance = Operaciones ()\n",
    "operInstance.suma(2,3)"
   ]
  },
  {
   "cell_type": "markdown",
   "id": "c7d4f8a7",
   "metadata": {},
   "source": [
    "# Parametros y argumentos"
   ]
  },
  {
   "cell_type": "code",
   "execution_count": 15,
   "id": "eb28f9aa",
   "metadata": {},
   "outputs": [],
   "source": [
    "# la funcion suma tiene 2 parametros que se suman pero puede tener mas argumentos que no son operables.\n",
    "# el primer argumento de 1 clase es self (yo mismo) y referencia a la variable. es implicito como primer argumento."
   ]
  },
  {
   "cell_type": "code",
   "execution_count": null,
   "id": "adbdd728",
   "metadata": {},
   "outputs": [],
   "source": [
    "# si la funcion devuelve algun valor siempre acaba con un return. si no devuelve nada se coloca un return vacio"
   ]
  },
  {
   "cell_type": "code",
   "execution_count": 16,
   "id": "d847a0e6",
   "metadata": {},
   "outputs": [],
   "source": [
    "def saludar():\n",
    "    print(\"Hola estoy programando!\")\n",
    "    return"
   ]
  },
  {
   "cell_type": "code",
   "execution_count": 17,
   "id": "ce035dce",
   "metadata": {},
   "outputs": [
    {
     "name": "stdout",
     "output_type": "stream",
     "text": [
      "Hola estoy programando!\n"
     ]
    }
   ],
   "source": [
    "saludar()"
   ]
  },
  {
   "cell_type": "code",
   "execution_count": 24,
   "id": "5f6e867b",
   "metadata": {},
   "outputs": [],
   "source": [
    "def saludar1():\n",
    "    name=str(input(\"Introduce tu nombre: \"))\n",
    "    if name:\n",
    "        print(\"Hola\"+ name)\n",
    "    else:\n",
    "        print(\"Hola estoy programando!\")\n",
    "    return"
   ]
  },
  {
   "cell_type": "code",
   "execution_count": 25,
   "id": "b7e75b3b",
   "metadata": {},
   "outputs": [
    {
     "name": "stdout",
     "output_type": "stream",
     "text": [
      "Introduce tu nombre: Jose\n",
      "HolaJose\n"
     ]
    }
   ],
   "source": [
    "saludar1()"
   ]
  },
  {
   "cell_type": "code",
   "execution_count": 28,
   "id": "a3f7a8b8",
   "metadata": {},
   "outputs": [],
   "source": [
    "# para abortar una funcion puedo usar return\n",
    "\n",
    "def buscaPares():\n",
    "    for x in range (10):\n",
    "        if x % 2==0:\n",
    "            return\n",
    "        print(\" Fin de la ejecucion\")"
   ]
  },
  {
   "cell_type": "code",
   "execution_count": 29,
   "id": "65be580f",
   "metadata": {},
   "outputs": [],
   "source": [
    "buscaPares()"
   ]
  },
  {
   "cell_type": "code",
   "execution_count": 31,
   "id": "648fe087",
   "metadata": {},
   "outputs": [],
   "source": [
    "# Para devolver 2 valores de una funcion: dupla\n",
    "\n",
    "def sumaresta (x,y):\n",
    "    suma = x+y\n",
    "    resta=x-y\n",
    "    return (suma,resta)"
   ]
  },
  {
   "cell_type": "code",
   "execution_count": 32,
   "id": "3bef9e59",
   "metadata": {},
   "outputs": [
    {
     "data": {
      "text/plain": [
       "(5, -1)"
      ]
     },
     "execution_count": 32,
     "metadata": {},
     "output_type": "execute_result"
    }
   ],
   "source": [
    "sumaresta(2,3)"
   ]
  },
  {
   "cell_type": "code",
   "execution_count": 33,
   "id": "ce79789a",
   "metadata": {},
   "outputs": [],
   "source": [
    "# Para devolver 2 valores de una funcion: dupla\n",
    "\n",
    "def sumaresta (x,y=0):\n",
    "    suma = x+y\n",
    "    resta=x-y\n",
    "    return (suma,resta)"
   ]
  },
  {
   "cell_type": "code",
   "execution_count": 35,
   "id": "f3d405ef",
   "metadata": {},
   "outputs": [
    {
     "data": {
      "text/plain": [
       "(1, 1)"
      ]
     },
     "execution_count": 35,
     "metadata": {},
     "output_type": "execute_result"
    }
   ],
   "source": [
    "sumaresta(1)"
   ]
  },
  {
   "cell_type": "markdown",
   "id": "f766d20f",
   "metadata": {},
   "source": [
    "cuando no sepamos cuantos argumentos tiene una funcion"
   ]
  },
  {
   "cell_type": "code",
   "execution_count": 36,
   "id": "b718d98e",
   "metadata": {},
   "outputs": [],
   "source": [
    "def suma(*args): # el asterisco acepta argumentos de varias variables\n",
    "    return sum (args)"
   ]
  },
  {
   "cell_type": "code",
   "execution_count": 37,
   "id": "8943356a",
   "metadata": {},
   "outputs": [
    {
     "data": {
      "text/plain": [
       "45"
      ]
     },
     "execution_count": 37,
     "metadata": {},
     "output_type": "execute_result"
    }
   ],
   "source": [
    "suma (1,2,3,4,5,6,7,8,9) # puedo sumar argumentos de diferente longitud con el asterisco"
   ]
  },
  {
   "cell_type": "code",
   "execution_count": 38,
   "id": "dd1bf6c8",
   "metadata": {},
   "outputs": [],
   "source": [
    "def sumaCuadrados (*datos):\n",
    "    total =0\n",
    "    for d in datos:\n",
    "        total = total + d**2\n",
    "        # sintaxis reducida (total += d**2) equivalente\n",
    "    return total\n",
    "        \n"
   ]
  },
  {
   "cell_type": "code",
   "execution_count": 39,
   "id": "2dcd18d2",
   "metadata": {},
   "outputs": [
    {
     "data": {
      "text/plain": [
       "5737.0436"
      ]
     },
     "execution_count": 39,
     "metadata": {},
     "output_type": "execute_result"
    }
   ],
   "source": [
    "sumaCuadrados(2,4.56,34,67.5)"
   ]
  },
  {
   "cell_type": "code",
   "execution_count": 40,
   "id": "dcbbc234",
   "metadata": {},
   "outputs": [
    {
     "ename": "NameError",
     "evalue": "name 'total' is not defined",
     "output_type": "error",
     "traceback": [
      "\u001b[1;31m---------------------------------------------------------------------------\u001b[0m",
      "\u001b[1;31mNameError\u001b[0m                                 Traceback (most recent call last)",
      "\u001b[1;32m~\\AppData\\Local\\Temp/ipykernel_7688/3172011723.py\u001b[0m in \u001b[0;36m<module>\u001b[1;34m\u001b[0m\n\u001b[1;32m----> 1\u001b[1;33m \u001b[0mtotal\u001b[0m\u001b[1;33m\u001b[0m\u001b[1;33m\u001b[0m\u001b[0m\n\u001b[0m",
      "\u001b[1;31mNameError\u001b[0m: name 'total' is not defined"
     ]
    }
   ],
   "source": [
    "total"
   ]
  },
  {
   "cell_type": "code",
   "execution_count": 41,
   "id": "60d49d93",
   "metadata": {},
   "outputs": [],
   "source": [
    "# total no existe fuera de la funcion. si la solicito me da un error"
   ]
  },
  {
   "cell_type": "markdown",
   "id": "2a6ce944",
   "metadata": {},
   "source": [
    "# Funciones anonimas (con Lambda)"
   ]
  },
  {
   "cell_type": "code",
   "execution_count": 42,
   "id": "005af009",
   "metadata": {},
   "outputs": [],
   "source": [
    "# tambien llamada lampda\n",
    "# no se utiliza la palabra deff\n",
    "# se usa lampda"
   ]
  },
  {
   "cell_type": "code",
   "execution_count": 43,
   "id": "2fa077ba",
   "metadata": {},
   "outputs": [],
   "source": [
    "doble = lambda x: x*2"
   ]
  },
  {
   "cell_type": "code",
   "execution_count": 44,
   "id": "2bd9b5f8",
   "metadata": {},
   "outputs": [
    {
     "data": {
      "text/plain": [
       "6"
      ]
     },
     "execution_count": 44,
     "metadata": {},
     "output_type": "execute_result"
    }
   ],
   "source": [
    "doble(3)"
   ]
  },
  {
   "cell_type": "code",
   "execution_count": 45,
   "id": "f6d134dd",
   "metadata": {},
   "outputs": [],
   "source": [
    "# tiene de especial que no tiene nombre propiamente dicho. queda mas reducida y es para una prograacuon rapida\n",
    "# la funcion suma seria"
   ]
  },
  {
   "cell_type": "code",
   "execution_count": 46,
   "id": "3c69c97a",
   "metadata": {},
   "outputs": [],
   "source": [
    "suma = lambda x, y: x+y"
   ]
  },
  {
   "cell_type": "code",
   "execution_count": 47,
   "id": "013b2cdb",
   "metadata": {},
   "outputs": [
    {
     "data": {
      "text/plain": [
       "5"
      ]
     },
     "execution_count": 47,
     "metadata": {},
     "output_type": "execute_result"
    }
   ],
   "source": [
    "suma(2,3)"
   ]
  },
  {
   "cell_type": "code",
   "execution_count": 48,
   "id": "ec705bc8",
   "metadata": {},
   "outputs": [],
   "source": [
    "# estas existen para unas funciones llamadas filter, map y reduce (filtran, reducen y mapean datos para dar un resumen)\n",
    "# todas dependen de una libreria"
   ]
  },
  {
   "cell_type": "code",
   "execution_count": 49,
   "id": "6a5fb97b",
   "metadata": {},
   "outputs": [],
   "source": [
    "from functools import reduce"
   ]
  },
  {
   "cell_type": "code",
   "execution_count": 50,
   "id": "419ace72",
   "metadata": {},
   "outputs": [],
   "source": [
    "data = [1,2,3,4,5,6,7,8,9,10] # un vector de datos"
   ]
  },
  {
   "cell_type": "code",
   "execution_count": 52,
   "id": "4bda29a0",
   "metadata": {},
   "outputs": [],
   "source": [
    "# filtrar datos: numeros de este vectpor que son su doble mayor que 8\n",
    "\n",
    "filtered_data= list(filter(lambda x: (x*2>8), data)) # la funcion se da como lambda"
   ]
  },
  {
   "cell_type": "code",
   "execution_count": 53,
   "id": "c21a11c3",
   "metadata": {},
   "outputs": [
    {
     "data": {
      "text/plain": [
       "[5, 6, 7, 8, 9, 10]"
      ]
     },
     "execution_count": 53,
     "metadata": {},
     "output_type": "execute_result"
    }
   ],
   "source": [
    "filtered_data"
   ]
  },
  {
   "cell_type": "code",
   "execution_count": 58,
   "id": "92feb7a0",
   "metadata": {},
   "outputs": [],
   "source": [
    "# mapear datos: trasforma los datos da el doble de los numeros en este vector\n",
    "\n",
    "mapped_data= list(map(lambda x: x*2, data)) # la funcion se da como lambda"
   ]
  },
  {
   "cell_type": "code",
   "execution_count": 59,
   "id": "470fee4b",
   "metadata": {},
   "outputs": [
    {
     "data": {
      "text/plain": [
       "[2, 4, 6, 8, 10, 12, 14, 16, 18, 20]"
      ]
     },
     "execution_count": 59,
     "metadata": {},
     "output_type": "execute_result"
    }
   ],
   "source": [
    "mapped_data"
   ]
  },
  {
   "cell_type": "code",
   "execution_count": 60,
   "id": "83e27987",
   "metadata": {},
   "outputs": [],
   "source": [
    "# reduce datos: reduce los datos operandolos entre ellos\n",
    "\n",
    "reduce_data=  reduce(lambda x,y: x+y, data) # la funcion se da como lambda"
   ]
  },
  {
   "cell_type": "code",
   "execution_count": 61,
   "id": "d081a1ae",
   "metadata": {},
   "outputs": [
    {
     "data": {
      "text/plain": [
       "55"
      ]
     },
     "execution_count": 61,
     "metadata": {},
     "output_type": "execute_result"
    }
   ],
   "source": [
    "reduce_data"
   ]
  },
  {
   "cell_type": "code",
   "execution_count": null,
   "id": "2e6b28da",
   "metadata": {},
   "outputs": [],
   "source": []
  }
 ],
 "metadata": {
  "kernelspec": {
   "display_name": "Python 3 (ipykernel)",
   "language": "python",
   "name": "python3"
  },
  "language_info": {
   "codemirror_mode": {
    "name": "ipython",
    "version": 3
   },
   "file_extension": ".py",
   "mimetype": "text/x-python",
   "name": "python",
   "nbconvert_exporter": "python",
   "pygments_lexer": "ipython3",
   "version": "3.8.12"
  }
 },
 "nbformat": 4,
 "nbformat_minor": 5
}
