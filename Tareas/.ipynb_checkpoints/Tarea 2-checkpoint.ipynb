{
 "cells": [
  {
   "cell_type": "markdown",
   "id": "317db13e",
   "metadata": {},
   "source": [
    "Pregunta 1"
   ]
  },
  {
   "cell_type": "markdown",
   "id": "153a1818",
   "metadata": {},
   "source": [
    "Escribe una secuencia de instrucciones que permitan leer un número real por pantalla y que muestre si el\n",
    "número es positivo o no."
   ]
  },
  {
   "cell_type": "code",
   "execution_count": 31,
   "id": "d7fc5c5b",
   "metadata": {},
   "outputs": [
    {
     "name": "stdout",
     "output_type": "stream",
     "text": [
      "Escribe aqui un numero: 0\n",
      "El número digitado es 0.0 y no tiene signo\n"
     ]
    }
   ],
   "source": [
    "x=float(input(\"Escribe aqui un numero: \"))\n",
    "\n",
    "if x == 0:\n",
    "    print (\"El número digitado es \"+ str(x) + \" y no tiene signo\")\n",
    "elif x<0:\n",
    "    print(str(x) + \" es un un numero negativo\")\n",
    "else:\n",
    "     print(str(x) + \" es un un numero positivo\")"
   ]
  },
  {
   "cell_type": "markdown",
   "id": "e8a7eb90",
   "metadata": {},
   "source": [
    "Se solicita el numero como float, para que contenga los enytreos y los numeros con decimales\n",
    "y despues se pone la condicion separada de los tres casos, que sea 0, que sea positivo (x>0) o negativo (x>0)"
   ]
  },
  {
   "cell_type": "markdown",
   "id": "a0396f04",
   "metadata": {},
   "source": [
    "Pregunta 2"
   ]
  },
  {
   "cell_type": "markdown",
   "id": "839d1d28",
   "metadata": {},
   "source": [
    "Escribe una secuencia de instrucciones que permitan leer un número real por pantalla y que muestre si el\n",
    "número está en el rango entre −5 y 5, ambos incluidos"
   ]
  },
  {
   "cell_type": "code",
   "execution_count": 34,
   "id": "ff19cd9a",
   "metadata": {},
   "outputs": [
    {
     "name": "stdout",
     "output_type": "stream",
     "text": [
      "Escribe aqui un numero entre -5 y 5 (ambos incluidos): -334\n",
      "tu numero esta fuera del rango solicitado\n"
     ]
    }
   ],
   "source": [
    "x=float(input(\"Escribe aqui un numero entre -5 y 5 (ambos incluidos): \"))\n",
    "\n",
    "if  -5 <= x <= 5:\n",
    "    print(\"Has escrito un numero que esta entre entre -5 y 5, ambos incluidos\")\n",
    "else:\n",
    "    print(\"tu numero esta fuera del rango solicitado\")"
   ]
  },
  {
   "cell_type": "markdown",
   "id": "7fd6438f",
   "metadata": {},
   "source": [
    "Pregunta 3"
   ]
  },
  {
   "cell_type": "markdown",
   "id": "c707fd4c",
   "metadata": {},
   "source": [
    "Escribe una secuencia de instrucciones que permitan leer las coordenadas de un punto (x, y) e indique en\n",
    "cuál de los cuatro cuadrantes se encuentra dicho punto.\n",
    "Si x = 0, deberás indicar que el punto se encuentra sobre el eje vertical.\n",
    "Si y = 0, deberás indicar que el punto se encuentra sobre el eje horizontal.\n",
    "Si tanto x = 0 como y = 0, entonces deberás indicar que el punto se trata del origen de coordenadas."
   ]
  },
  {
   "cell_type": "code",
   "execution_count": null,
   "id": "06f4b78b",
   "metadata": {},
   "outputs": [],
   "source": [
    "x=float(input(\"Escribe la coordenada x de tu punto: \"))\n",
    "y=float(input(\"Escribe la coordenada y de tu punto: \"))\n",
    "\n",
    "if x==0 and y==0:\n",
    "    print (\"El punto (\" + str(x) + \",\" + str(x) + \") es el origen de coordenadas.\")\n",
    "elif x==0:\n",
    "    print (\"El punto (\" + str(x) + \",\" + str(x) + \") se encuentra sobre el eje vertical\")\n",
    "elif y==0:\n",
    "    print (\"El punto (\" + str(x) + \",\" + str(x) + \") se encuentra sobre el eje horizontal\")\n",
    "elif x>0 and y>0:\n",
    "    print (\"El punto (\" + str(x) + \",\" + str(x) + \") pertenece al primer cuadrante\")\n",
    "elif x>0 and y<0:\n",
    "    print (\"El punto (\" + str(x) + \",\" + str(x) + \") pertenece al cuarto cuadrante\")\n",
    "elif x<0 and y<0:\n",
    "    print (\"El punto (\" + str(x) + \",\" + str(x) + \") pertenece al tercer cuadrante\")\n",
    "elif x<0 and y>0:\n",
    "    print (\"El punto (\" + str(x) + \",\" + str(x) + \") pertenece al segundo cuadrante\") \n"
   ]
  },
  {
   "cell_type": "markdown",
   "id": "f3957a5d",
   "metadata": {},
   "source": [
    "Pregunta 4"
   ]
  },
  {
   "cell_type": "markdown",
   "id": "65418a2b",
   "metadata": {},
   "source": [
    "Escribe una secuencia de instrucciones que permitan leer dos números enteros y muestre el cociente de la\n",
    "división entera y el resto de la división entera."
   ]
  },
  {
   "cell_type": "code",
   "execution_count": null,
   "id": "a272c6d8",
   "metadata": {},
   "outputs": [],
   "source": [
    "x=int(input(\"Escribe el primer numero entero: \"))\n",
    "y=int(input(\"Escribe el segundo numero entero: \"))\n",
    "\n",
    "cociente = x//y\n",
    "resto = x%y\n",
    "\n",
    "print (\"El cociente de la division entera es: \" + str(cociente))\n",
    "print (\"El resto de la division entera es: \" + str(resto))"
   ]
  },
  {
   "cell_type": "code",
   "execution_count": null,
   "id": "87a63e0f",
   "metadata": {},
   "outputs": [],
   "source": []
  },
  {
   "cell_type": "code",
   "execution_count": null,
   "id": "95f34397",
   "metadata": {},
   "outputs": [],
   "source": []
  }
 ],
 "metadata": {
  "kernelspec": {
   "display_name": "Python 3 (ipykernel)",
   "language": "python",
   "name": "python3"
  },
  "language_info": {
   "codemirror_mode": {
    "name": "ipython",
    "version": 3
   },
   "file_extension": ".py",
   "mimetype": "text/x-python",
   "name": "python",
   "nbconvert_exporter": "python",
   "pygments_lexer": "ipython3",
   "version": "3.8.12"
  }
 },
 "nbformat": 4,
 "nbformat_minor": 5
}
