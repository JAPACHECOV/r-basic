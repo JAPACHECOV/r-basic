{
 "cells": [
  {
   "cell_type": "markdown",
   "id": "317db13e",
   "metadata": {},
   "source": [
    "Pregunta 1"
   ]
  },
  {
   "cell_type": "markdown",
   "id": "153a1818",
   "metadata": {},
   "source": [
    "Escribe una secuencia de instrucciones que permitan leer un número real por pantalla y que muestre si el\n",
    "número es positivo o no."
   ]
  },
  {
   "cell_type": "code",
   "execution_count": null,
   "id": "d7fc5c5b",
   "metadata": {},
   "outputs": [],
   "source": [
    "x=float(input(\"Escribe aqui un numero: \"))\n",
    "\n",
    "if x == 0:\n",
    "    print (\"El número digitado es \"+ str(x) + \" y no tiene signo\")\n",
    "elif x<0:\n",
    "    print(str(x) + \" es un un numero negativo\")\n",
    "else:\n",
    "     print(str(x) + \" es un un numero positivo\")"
   ]
  },
  {
   "cell_type": "markdown",
   "id": "e8a7eb90",
   "metadata": {},
   "source": [
    "Se solicita el numero como float, para que contenga los enytreos y los numeros con decimales\n",
    "y despues se pone la condicion separada de los tres casos, que sea 0, que sea positivo (x>0) o negativo (x>0)"
   ]
  },
  {
   "cell_type": "markdown",
   "id": "a0396f04",
   "metadata": {},
   "source": [
    "Pregunta 2"
   ]
  },
  {
   "cell_type": "markdown",
   "id": "839d1d28",
   "metadata": {},
   "source": [
    "Escribe una secuencia de instrucciones que permitan leer un número real por pantalla y que muestre si el\n",
    "número está en el rango entre −5 y 5, ambos incluidos"
   ]
  },
  {
   "cell_type": "code",
   "execution_count": null,
   "id": "ff19cd9a",
   "metadata": {},
   "outputs": [],
   "source": [
    "x=float(input(\"Escribe aqui un numero entre -5 y 5 (ambos incluidos): \"))\n",
    "\n",
    "if  -5 <= x <= 5:\n",
    "    print(\"Has escrito un numero que esta entre entre -5 y 5, ambos incluidos\")\n",
    "else:\n",
    "    print(\"tu numero esta fuera del rango solicitado\")"
   ]
  },
  {
   "cell_type": "markdown",
   "id": "7fd6438f",
   "metadata": {},
   "source": [
    "Pregunta 3"
   ]
  },
  {
   "cell_type": "markdown",
   "id": "c707fd4c",
   "metadata": {},
   "source": [
    "Escribe una secuencia de instrucciones que permitan leer las coordenadas de un punto (x, y) e indique en\n",
    "cuál de los cuatro cuadrantes se encuentra dicho punto.\n",
    "Si x = 0, deberás indicar que el punto se encuentra sobre el eje vertical.\n",
    "Si y = 0, deberás indicar que el punto se encuentra sobre el eje horizontal.\n",
    "Si tanto x = 0 como y = 0, entonces deberás indicar que el punto se trata del origen de coordenadas."
   ]
  },
  {
   "cell_type": "code",
   "execution_count": null,
   "id": "06f4b78b",
   "metadata": {},
   "outputs": [],
   "source": [
    "x=float(input(\"Escribe la coordenada x de tu punto: \"))\n",
    "y=float(input(\"Escribe la coordenada y de tu punto: \"))\n",
    "\n",
    "if x==0 and y==0:\n",
    "    print (\"El punto (\" + str(x) + \",\" + str(y) + \") es el origen de coordenadas.\")\n",
    "elif x==0:\n",
    "    print (\"El punto (\" + str(x) + \",\" + str(y) + \") se encuentra sobre el eje vertical\")\n",
    "elif y==0:\n",
    "    print (\"El punto (\" + str(x) + \",\" + str(y) + \") se encuentra sobre el eje horizontal\")\n",
    "elif x>0 and y>0:\n",
    "    print (\"El punto (\" + str(x) + \",\" + str(y) + \") pertenece al primer cuadrante\")\n",
    "elif x>0 and y<0:\n",
    "    print (\"El punto (\" + str(x) + \",\" + str(y) + \") pertenece al cuarto cuadrante\")\n",
    "elif x<0 and y<0:\n",
    "    print (\"El punto (\" + str(x) + \",\" + str(y) + \") pertenece al tercer cuadrante\")\n",
    "elif x<0 and y>0:\n",
    "    print (\"El punto (\" + str(x) + \",\" + str(y) + \") pertenece al segundo cuadrante\") \n"
   ]
  },
  {
   "cell_type": "markdown",
   "id": "f3957a5d",
   "metadata": {},
   "source": [
    "Pregunta 4"
   ]
  },
  {
   "cell_type": "markdown",
   "id": "65418a2b",
   "metadata": {},
   "source": [
    "Escribe una secuencia de instrucciones que permitan leer dos números enteros y muestre el cociente de la\n",
    "división entera y el resto de la división entera."
   ]
  },
  {
   "cell_type": "code",
   "execution_count": 55,
   "id": "a272c6d8",
   "metadata": {},
   "outputs": [
    {
     "name": "stdout",
     "output_type": "stream",
     "text": [
      "Escribe el primer numero entero: 23\n",
      "Escribe el segundo numero entero: 4\n",
      "El cociente de la division entera es: 5\n",
      "El resto de la division entera es: 3\n"
     ]
    }
   ],
   "source": [
    "x=int(input(\"Escribe el primer numero entero: \"))\n",
    "y=int(input(\"Escribe el segundo numero entero: \"))\n",
    "\n",
    "cociente = x//y\n",
    "resto = x%y\n",
    "\n",
    "print (\"El cociente de la division entera es: \" + str(cociente))\n",
    "print (\"El resto de la division entera es: \" + str(resto))"
   ]
  },
  {
   "cell_type": "markdown",
   "id": "0b1a9c86",
   "metadata": {},
   "source": [
    "Pregunta 5"
   ]
  },
  {
   "cell_type": "markdown",
   "id": "09297ccb",
   "metadata": {},
   "source": [
    "Escribe una secuencia de instrucciones que permitan leer un número entero y determinar si es cuadrado\n",
    "perfecto o no (piensa la mejor forma de hacerlo con lo que has aprendido hasta ahora)."
   ]
  },
  {
   "cell_type": "code",
   "execution_count": 77,
   "id": "15d60ad0",
   "metadata": {},
   "outputs": [
    {
     "name": "stdout",
     "output_type": "stream",
     "text": [
      "Escribe un numero entero positivo: 16\n",
      "El numero 16 es un numero cuadrado perfecto\n"
     ]
    }
   ],
   "source": [
    "import math\n",
    "\n",
    "x=int(input(\"Escribe un numero entero positivo: \"))\n",
    "\n",
    "\n",
    "if math.isclose((math.sqrt(x)) - math.trunc(math.sqrt(x)),0,rel_tol=1e-15)==True:\n",
    "\n",
    "    print (\"El numero \"+ str(x) + \" es un numero cuadrado perfecto\")\n",
    "\n",
    "else:\n",
    "    \n",
    "    print (\"El numero \"+ str(x) + \" NO es un numero cuadrado perfecto\")\n",
    "\n"
   ]
  },
  {
   "cell_type": "markdown",
   "id": "99abad79",
   "metadata": {},
   "source": [
    "Pregunta 6 "
   ]
  },
  {
   "cell_type": "markdown",
   "id": "b9898c56",
   "metadata": {},
   "source": [
    "Escribe una expresión que permita determinar si un número entero positivo puede corresponder a un año\n",
    "bisiesto o no. Se consideran años bisiestos aquellos cuyo número es divisible por cuatro excepto los años que\n",
    "son múltiplos de 100, a no ser que lo sean de 400 (por ejemplo el año 2000 fue bisiesto pero el 2100 no lo\n",
    "será)."
   ]
  },
  {
   "cell_type": "code",
   "execution_count": 118,
   "id": "5f28d904",
   "metadata": {},
   "outputs": [
    {
     "name": "stdout",
     "output_type": "stream",
     "text": [
      "Escrive un año: 2100\n",
      "El año 2100 NO es un año bisiesto\n"
     ]
    }
   ],
   "source": [
    "x=int(input(\"Escrive un año: \"))\n",
    "\n",
    "if x%4==0:\n",
    "    if x%100==0 and x%400!=0:\n",
    "        print(\"El año \" + str(x) + \" NO es un año bisiesto\" )\n",
    "    else:   \n",
    "        print(\"El año \" + str(x) + \" es un año bisiesto\" )\n",
    "    \n",
    "else:\n",
    "    print(\"El año \" + str(x) + \" NO es un año bisiesto\" )"
   ]
  },
  {
   "cell_type": "markdown",
   "id": "043bd2af",
   "metadata": {},
   "source": [
    "Pregunta 7 "
   ]
  },
  {
   "cell_type": "markdown",
   "id": "ce9b71d6",
   "metadata": {},
   "source": [
    "Busca la imagen de un tablero de ajedrez en Google y fíjate en la nomenclatura de las casillas. Escribe una\n",
    "secuencia que lea una letra y un número de teclado correspondiente a una casilla de un tablero de ajedrez y\n",
    "que indique si esta casilla es negra o blanca.\n"
   ]
  },
  {
   "cell_type": "code",
   "execution_count": 131,
   "id": "6562bbbd",
   "metadata": {},
   "outputs": [
    {
     "name": "stdout",
     "output_type": "stream",
     "text": [
      "Escribe un numero entero entre 1 y 8: 2\n",
      "Escribe una letra entre la (a) y la (h): c\n",
      "c\n",
      "3\n",
      "5\n",
      "La casilla corresponciente a la celda seleccionada es de color blanca\n"
     ]
    }
   ],
   "source": [
    "x=int(input(\"Escribe un numero entero entre 1 y 8: \"))\n",
    "y=str(input(\"Escribe una letra entre la (a) y la (h): \"))\n",
    "\n",
    "print (y)\n",
    "\n",
    "if y==\"a\" or y==\"A\":\n",
    "    y=1\n",
    "    print (y)\n",
    "\n",
    "if y==\"b\" or y==\"B\":\n",
    "    y=2\n",
    "    print (y)\n",
    "\n",
    "if y==\"c\" or y==\"C\":\n",
    "    y=3\n",
    "    print (y)\n",
    "    \n",
    "if y==\"d\" or y==\"D\":\n",
    "    y=4\n",
    "    print (y)\n",
    "    \n",
    "if y==\"e\" or y==\"E\":\n",
    "    y=5\n",
    "    print (y)\n",
    "    \n",
    "if y==\"f\" or y==\"F\":\n",
    "    y=6\n",
    "    print (y)\n",
    "    \n",
    "if y==\"g\" or y==\"G\":\n",
    "    y=7\n",
    "    print (y)\n",
    "    \n",
    "if y==\"h\" or y==\"H\":\n",
    "    y=8\n",
    "    print (y)\n",
    "    \n",
    "\n",
    "suma = x+y\n",
    "\n",
    "print(suma)\n",
    "\n",
    "if suma % 2 == 0:\n",
    "    print (\"La casilla corresponciente a la celda seleccionada es de color negra\")\n",
    "    \n",
    "else:\n",
    "    print (\"La casilla corresponciente a la celda seleccionada es de color blanca\")"
   ]
  },
  {
   "cell_type": "code",
   "execution_count": null,
   "id": "1f60181e",
   "metadata": {},
   "outputs": [],
   "source": []
  }
 ],
 "metadata": {
  "kernelspec": {
   "display_name": "Python 3 (ipykernel)",
   "language": "python",
   "name": "python3"
  },
  "language_info": {
   "codemirror_mode": {
    "name": "ipython",
    "version": 3
   },
   "file_extension": ".py",
   "mimetype": "text/x-python",
   "name": "python",
   "nbconvert_exporter": "python",
   "pygments_lexer": "ipython3",
   "version": "3.8.12"
  }
 },
 "nbformat": 4,
 "nbformat_minor": 5
}
